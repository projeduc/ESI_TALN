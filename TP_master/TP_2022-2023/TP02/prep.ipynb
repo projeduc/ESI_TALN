{
 "cells": [
  {
   "cell_type": "code",
   "execution_count": 1,
   "id": "b5e8e776",
   "metadata": {},
   "outputs": [],
   "source": [
    "import nltk\n",
    "import numpy  as np\n",
    "import pandas as pd\n",
    "from sklearn.metrics                 import classification_report\n",
    "from sklearn.preprocessing           import LabelBinarizer\n",
    "from sklearn.neural_network          import MLPClassifier\n",
    "from sklearn.model_selection         import train_test_split\n",
    "from sklearn.feature_extraction.text import CountVectorizer\n",
    "\n",
    "import re\n",
    "token_pattern = re.compile(r'(?u)\\b\\w\\w+\\b')\n",
    "tokenizer = token_pattern.findall"
   ]
  },
  {
   "cell_type": "code",
   "execution_count": 2,
   "id": "c32e63cc",
   "metadata": {},
   "outputs": [],
   "source": [
    "import gensim"
   ]
  },
  {
   "cell_type": "code",
   "execution_count": 4,
   "id": "9d328fd1",
   "metadata": {},
   "outputs": [],
   "source": [
    "data = pd.read_csv(\"data.csv\")\n",
    "\n",
    "le = LabelBinarizer()\n",
    "Y = le.fit_transform(data['Sentiment'])\n",
    "\n",
    "Xtxt_train, Xtxt_test, Y_train, Y_test = train_test_split(data['Sentence'], Y, test_size=0.3, random_state=0)"
   ]
  },
  {
   "cell_type": "code",
   "execution_count": 5,
   "id": "666c7539",
   "metadata": {},
   "outputs": [
    {
     "data": {
      "text/plain": [
       "[['maximum',\n",
       "  'of',\n",
       "  '666',\n",
       "  '104',\n",
       "  'new',\n",
       "  'shares',\n",
       "  'can',\n",
       "  'further',\n",
       "  'be',\n",
       "  'subscribed',\n",
       "  'for',\n",
       "  'by',\n",
       "  'exercising',\n",
       "  'options',\n",
       "  'under',\n",
       "  'the',\n",
       "  '2004',\n",
       "  'stock',\n",
       "  'option',\n",
       "  'plan'],\n",
       " ['The', 'sellers', 'were', 'the', 'founders', 'of', 'the', 'company'],\n",
       " ['We',\n",
       "  'are',\n",
       "  'pleased',\n",
       "  'to',\n",
       "  'welcome',\n",
       "  'Tapeks',\n",
       "  'Noma',\n",
       "  'into',\n",
       "  'Cramo',\n",
       "  'group']]"
      ]
     },
     "execution_count": 5,
     "metadata": {},
     "output_type": "execute_result"
    }
   ],
   "source": [
    "sentWords = []\n",
    "\n",
    "for sent in Xtxt_train:\n",
    "    sentWords.append(tokenizer(sent))\n",
    "\n",
    "# sentWords = np.array(sentWords)\n",
    "\n",
    "sentWords[:3]\n"
   ]
  },
  {
   "cell_type": "code",
   "execution_count": 6,
   "id": "2cee694a",
   "metadata": {},
   "outputs": [],
   "source": [
    "from gensim.corpora import Dictionary\n",
    "\n",
    "dct = Dictionary(sentWords)  # fit dictionary"
   ]
  },
  {
   "cell_type": "code",
   "execution_count": 7,
   "id": "b368943c",
   "metadata": {},
   "outputs": [],
   "source": [
    "corpus = [dct.doc2bow(doc) for doc in sentWords] "
   ]
  },
  {
   "cell_type": "code",
   "execution_count": 17,
   "id": "96cae20f",
   "metadata": {},
   "outputs": [],
   "source": [
    "from gensim.models import Word2Vec, LsiModel, FastText\n",
    "\n",
    "num_topics = [100, 50, 10]\n",
    "wins = [4, 2]\n",
    "\n",
    "for nts in num_topics:\n",
    "    lsa_model = LsiModel(corpus, num_topics=nts, id2word=dct)\n",
    "    lsa_model.save('./model/gensim_lsa_' + str(nts) + '.model')\n",
    "    for w in wins:\n",
    "        model_w2v= Word2Vec(sentences=sentWords, vector_size=nts, window=w, epochs=100, min_count=1)\n",
    "        model_w2v.save('./model/gensim_word2vec_' + str(nts) + '_w' + str(w) + '.model')\n",
    "        fasttext_model = FastText(vector_size=nts, window=w, min_count=1, sentences=sentWords, epochs=100)\n",
    "        fasttext_model.save('./model/gensim_fasttext_' + str(nts) + '_w' + str(w) + '.model')"
   ]
  },
  {
   "cell_type": "code",
   "execution_count": 18,
   "id": "6b8ae950",
   "metadata": {},
   "outputs": [],
   "source": [
    "for nts in num_topics:\n",
    "    lsa_model = LsiModel(corpus, num_topics=nts, id2word=dct)\n",
    "    lsa_model.save('./model/gensim_lsa_' + str(nts) + '.model')\n",
    "    for w in wins:\n",
    "        model_w2v= Word2Vec(sentences=sentWords, vector_size=nts, window=w, epochs=100, min_count=1, sg=1)\n",
    "        model_w2v.save('./model/gensim_word2vec_' + str(nts) + 'sg_w' + str(w) + '.model')"
   ]
  },
  {
   "cell_type": "code",
   "execution_count": 12,
   "id": "9c197521",
   "metadata": {},
   "outputs": [],
   "source": [
    "model_w2v.save('./gensim_word2vec_200_w4.model')\n",
    "lsa_model.save('./gensim_lsa_200.model')"
   ]
  },
  {
   "cell_type": "code",
   "execution_count": 14,
   "id": "002eb4ce",
   "metadata": {},
   "outputs": [],
   "source": [
    "model_w2v= Word2Vec(sentences=sentWords, vector_size=200, window=2, epochs=100, min_count=1)\n",
    "model_w2v.save('./gensim_word2vec_200_w2.model')"
   ]
  },
  {
   "cell_type": "code",
   "execution_count": 15,
   "id": "43375bed",
   "metadata": {},
   "outputs": [],
   "source": [
    "model_w2v= Word2Vec(sentences=sentWords, vector_size=20, window=2, epochs=100, min_count=1)\n",
    "model_w2v.save('./gensim_word2vec_20_w2.model')"
   ]
  },
  {
   "cell_type": "code",
   "execution_count": 16,
   "id": "2e6266db",
   "metadata": {},
   "outputs": [],
   "source": [
    "model_w2v= Word2Vec(sentences=sentWords, vector_size=400, window=4, epochs=100, min_count=1)\n",
    "model_w2v.save('./gensim_word2vec_400_w4.model')"
   ]
  },
  {
   "cell_type": "code",
   "execution_count": 17,
   "id": "750a8a15",
   "metadata": {},
   "outputs": [],
   "source": [
    "lsa_model = LsiModel(corpus, num_topics=400, id2word=dct)\n",
    "lsa_model.save('./gensim_lsa_400.model')"
   ]
  },
  {
   "cell_type": "code",
   "execution_count": 18,
   "id": "9f715d62",
   "metadata": {},
   "outputs": [],
   "source": [
    "\n",
    "model_w2v= Word2Vec(sentences=sentWords, vector_size=20, window=4, epochs=100, min_count=1)\n",
    "model_w2v.save('./gensim_word2vec_20_w4.model')\n",
    "\n",
    "lsa_model = LsiModel(corpus, num_topics=20, id2word=dct)\n",
    "lsa_model.save('./gensim_lsa_20.model')"
   ]
  },
  {
   "cell_type": "code",
   "execution_count": 8,
   "id": "cae6e148",
   "metadata": {},
   "outputs": [],
   "source": [
    "from gensim.models import FastText"
   ]
  },
  {
   "cell_type": "code",
   "execution_count": 19,
   "id": "1ac5f552",
   "metadata": {},
   "outputs": [],
   "source": [
    "fasttext_model = FastText(vector_size=200, window=4, min_count=1, sentences=sentWords, epochs=100)\n",
    "fasttext_model.save('./gensim_fasttext_200_w4.model')"
   ]
  },
  {
   "cell_type": "code",
   "execution_count": 9,
   "id": "99f5c3af",
   "metadata": {},
   "outputs": [],
   "source": [
    "fasttext_model = FastText(vector_size=20, window=4, min_count=1, sentences=sentWords, epochs=100)\n",
    "fasttext_model.save('./gensim_fasttext_20_w4.model')"
   ]
  },
  {
   "cell_type": "code",
   "execution_count": 10,
   "id": "f7629e63",
   "metadata": {},
   "outputs": [],
   "source": [
    "fasttext_model = FastText(vector_size=200, window=2, min_count=1, sentences=sentWords, epochs=100)\n",
    "fasttext_model.save('./gensim_fasttext_200_w2.model')"
   ]
  },
  {
   "cell_type": "code",
   "execution_count": 11,
   "id": "db34aaac",
   "metadata": {},
   "outputs": [],
   "source": [
    "fasttext_model = FastText(vector_size=20, window=2, min_count=1, sentences=sentWords, epochs=100)\n",
    "fasttext_model.save('./gensim_fasttext_20_w2.model')"
   ]
  },
  {
   "cell_type": "code",
   "execution_count": null,
   "id": "c4464b92",
   "metadata": {},
   "outputs": [],
   "source": []
  }
 ],
 "metadata": {
  "kernelspec": {
   "display_name": "Python 3 (ipykernel)",
   "language": "python",
   "name": "python3"
  },
  "language_info": {
   "codemirror_mode": {
    "name": "ipython",
    "version": 3
   },
   "file_extension": ".py",
   "mimetype": "text/x-python",
   "name": "python",
   "nbconvert_exporter": "python",
   "pygments_lexer": "ipython3",
   "version": "3.8.10"
  }
 },
 "nbformat": 4,
 "nbformat_minor": 5
}
